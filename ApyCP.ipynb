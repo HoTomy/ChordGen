{
  "nbformat": 4,
  "nbformat_minor": 0,
  "metadata": {
    "colab": {
      "provenance": [],
      "authorship_tag": "ABX9TyNcHrUVdsJkFxsdk/MpfFF9",
      "include_colab_link": true
    },
    "kernelspec": {
      "name": "python3",
      "display_name": "Python 3"
    },
    "language_info": {
      "name": "python"
    }
  },
  "cells": [
    {
      "cell_type": "markdown",
      "metadata": {
        "id": "view-in-github",
        "colab_type": "text"
      },
      "source": [
        "<a href=\"https://colab.research.google.com/github/HoTomy/ChordGen/blob/main/ApyCP.ipynb\" target=\"_parent\"><img src=\"https://colab.research.google.com/assets/colab-badge.svg\" alt=\"Open In Colab\"/></a>"
      ]
    },
    {
      "cell_type": "markdown",
      "source": [
        "**Install Music 21**"
      ],
      "metadata": {
        "id": "njvsxLsI-D1A"
      }
    },
    {
      "cell_type": "code",
      "source": [
        "pip install music21"
      ],
      "metadata": {
        "id": "3xDefs3P-IY2"
      },
      "execution_count": null,
      "outputs": []
    },
    {
      "cell_type": "markdown",
      "source": [
        "**Install Pretty MIDI**"
      ],
      "metadata": {
        "id": "pKLt-909B3iv"
      }
    },
    {
      "cell_type": "code",
      "source": [
        "pip install pretty_midi"
      ],
      "metadata": {
        "id": "EH-tsyNVB45s"
      },
      "execution_count": null,
      "outputs": []
    },
    {
      "cell_type": "markdown",
      "source": [
        "**Install MIDO**"
      ],
      "metadata": {
        "id": "hbgRPmpHD-4d"
      }
    },
    {
      "cell_type": "code",
      "source": [
        "pip install mido"
      ],
      "metadata": {
        "id": "DUqJa98LEGjE"
      },
      "execution_count": null,
      "outputs": []
    },
    {
      "cell_type": "markdown",
      "source": [
        "**Import Suitable Library**"
      ],
      "metadata": {
        "id": "KERH_4UsCBUI"
      }
    },
    {
      "cell_type": "code",
      "source": [
        "import pretty_midi\n",
        "import numpy as np\n",
        "from music21 import converter"
      ],
      "metadata": {
        "id": "NKRVDyqGCFMu"
      },
      "execution_count": null,
      "outputs": []
    },
    {
      "cell_type": "markdown",
      "source": [
        "**Import music 21 and json library and link to Google Drive**"
      ],
      "metadata": {
        "id": "5kB4JGfr-QgX"
      }
    },
    {
      "cell_type": "code",
      "source": [
        "# Import libraries\n",
        "import music21\n",
        "import json\n",
        "from google.colab import drive\n",
        "\n",
        "# Mount Google Drive\n",
        "drive.mount('/content/drive')"
      ],
      "metadata": {
        "id": "2ph3FRN_-aZd"
      },
      "execution_count": null,
      "outputs": []
    },
    {
      "cell_type": "markdown",
      "source": [
        "**Import Midi file**"
      ],
      "metadata": {
        "id": "BJizKkb2CN7U"
      }
    },
    {
      "cell_type": "code",
      "source": [
        "# Directory where the MIDI files are located\n",
        "midi_dir = \"/content/drive/MyDrive/midi/\"\n",
        "\n",
        "for i in range(70):\n",
        "midi_file_path = \"/content/drive/MyDrive/midi/uploaded.mid\"\n",
        "midi_data = converter.parse(midi_file_path)"
      ],
      "metadata": {
        "id": "S9BfkLTpCPVv"
      },
      "execution_count": null,
      "outputs": []
    },
    {
      "cell_type": "markdown",
      "source": [
        "**Deteminate Number of Bar**"
      ],
      "metadata": {
        "id": "U50EQMSADUho"
      }
    },
    {
      "cell_type": "code",
      "source": [
        "import music21\n",
        "\n",
        "# Get the time signature of the MIDI file (assuming a single time signature throughout)\n",
        "time_signature = midi_data.recurse().getElementsByClass(music21.meter.TimeSignature)[0]\n",
        "\n",
        "note_duration = time_signature.beatDuration.quarterLength\n",
        "# Get the duration of one bar in the MIDI file\n",
        "bar_duration = time_signature.barDuration.quarterLength\n",
        "\n",
        "# Get the total duration of the MIDI file\n",
        "total_duration = midi_data.duration.quarterLength\n",
        "\n",
        "# Calculate the number of bars in the MIDI file\n",
        "num_bars = int(total_duration / bar_duration)\n",
        "\n",
        "print(f\"Number of bars: {num_bars}\")"
      ],
      "metadata": {
        "id": "7aGS7lyvDV9c"
      },
      "execution_count": null,
      "outputs": []
    },
    {
      "cell_type": "markdown",
      "source": [
        "**Found Out the Music Note and Its Pattens**"
      ],
      "metadata": {
        "id": "bJgWBSbCEf6t"
      }
    },
    {
      "cell_type": "code",
      "source": [
        "import mido\n",
        "\n",
        "# Get second track\n",
        "track = midi_data.tracks[1]\n",
        "\n",
        "# Loop over track events\n",
        "for event in track:\n",
        "    # Check if event is a note_on event\n",
        "    if event.type == 'note_on':\n",
        "        # Get note pitch (MIDI note number)\n",
        "        note_pitch = event.note\n",
        "        # Convert MIDI note number to frequency\n",
        "        frequency = 2 ** ((note_pitch - 69) / 12) * 440\n",
        "        time_signature = midi_data.recurse().getElementsByClass(music21.meter.TimeSignature)[0]\n",
        "         # Print note pitch and frequency\n",
        "        print(f'Note pitch: {note_pitch}, Frequency: {frequency:.2f} Hz')"
      ],
      "metadata": {
        "id": "H9Iq8kbjEi2l"
      },
      "execution_count": null,
      "outputs": []
    },
    {
      "cell_type": "markdown",
      "source": [
        "**Get the Music Notes from MIDI**"
      ],
      "metadata": {
        "id": "8W_kspQkuuzJ"
      }
    },
    {
      "cell_type": "code",
      "source": [
        "import mido\n",
        "from mido import MidiFile\n",
        "\n",
        "# Data structure to store the notes\n",
        "notes_by_bar = {}\n",
        "\n",
        "# Iterate through the MIDI tracks and messages\n",
        "for i, track in enumerate(midi_data.tracks):\n",
        "    current_time = 0\n",
        "    current_bar = 0\n",
        "    notes_by_bar[current_bar] = []\n",
        "\n",
        "    for msg in track:\n",
        "        if msg.type == 'note_on':\n",
        "            if msg.time > 0:\n",
        "                current_time += msg.time\n",
        "            current_bar = current_time // mid.ticks_per_beat // 4  # Assuming 4/4 time signature\n",
        "            note_pitch = msg.note\n",
        "            note_duration = msg.time\n",
        "            notes_by_bar[current_bar].append((note_pitch, note_duration))\n",
        "\n",
        "# Print the notes by bar\n",
        "for bar, notes in notes_by_bar.items():\n",
        "    print(f\"Bar {bar}:\")\n",
        "    for note in notes:\n",
        "        pitch, duration = note\n",
        "        print(f\"Pitch: {pitch}, Duration: {duration}\")\n",
        "    print()"
      ],
      "metadata": {
        "id": "LwLfZ45eT-bl"
      },
      "execution_count": null,
      "outputs": []
    },
    {
      "cell_type": "markdown",
      "source": [
        "**Define the equations and get extracted chords by bar**"
      ],
      "metadata": {
        "id": "NPs9iSOsuxHI"
      }
    },
    {
      "cell_type": "code",
      "source": [
        "import numpy as np\n",
        "\n",
        "import mido\n",
        "from collections import Counter\n",
        "\n",
        "# Define the equations\n",
        "equations = np.array([\n",
        "    [9, 3, 1, 2, 1, 0, 0, 0, 0, 0, 0, 0],   # CMajor\n",
        "    [6, 0, 4, 0, 0, 2, 0, 3, 0, 0, 0, 0],   # C#Major\n",
        "    [0, 6, 1, 0, 4, 0, 0, 3, 0, 0, 0, 0],   # DMajor\n",
        "    [1, 1, 0, 0, 5, 0, 5, 0, 0, 1, 0, 0],   # D#Major\n",
        "    [2, 1, 0, 1, 3, 1, 0, 3, 0, 1, 2, 0],   # EMajor\n",
        "    [1, 1, 0, 0, 0, 5, 2, 0, 0, 6, 0, 1],   # FMajor\n",
        "    [1, 2, 0, 2, 0, 3, 0, 0, 2, 0, 0, 2],   # F#Major\n",
        "    [1, 1, 2, 0, 0, 0, 0, 5, 0, 0, 5, 0],   # GMajor\n",
        "    [4, 0, 0, 3, 0, 2, 0, 0, 0, 0, 0, 5],   # G#Major\n",
        "    [5, 1, 2, 0, 0, 0, 0, 6, 0, 2, 0, 0],   # AMajor\n",
        "    [5, 0, 0, 1, 0, 0, 0, 0, 1, 0, 7, 0],   # A#Major\n",
        "    [0, 0, 2, 0, 2, 0, 2, 0, 0, 0, 0, 6],   # BMajor\n",
        "    [5, 1, 3, 2, 1, 3, 1, 0, 1, 0, 1, 0],   # CMinor\n",
        "    [8, 0, 0, 4, 0, 3, 0, 0, 0, 1, 0, 0],   # C#Minor\n",
        "    [0, 5, 2, 0, 4, 0, 0, 1, 1, 0, 2, 0],   # DMinor\n",
        "    [1, 2, 0, 2, 0, 2, 1, 0, 0, 2, 0, 2],   # D#Minor\n",
        "    [1, 1, 0, 1, 4, 1, 1, 0, 1, 0, 3, 0],   # EMinor\n",
        "    [2, 0, 6, 0, 5, 0, 0, 2, 0, 0, 0, 0],   # FMinor\n",
        "    [2, 1, 0, 2, 0, 1, 4, 0, 1, 1, 0, 1],   # F#Minor\n",
        "    [1, 1, 2, 0, 4, 2, 0, 0, 2, 2, 0, 0],   # GMinor\n",
        "    [2, 2, 0, 0, 1, 0, 7, 0, 1, 3, 0, 0],   # G#Minor\n",
        "    [3, 1, 0, 2, 0, 0, 0, 5, 0, 2, 0, 2],   # AMinor\n",
        "    [1, 4, 1, 0, 1, 0, 0, 2, 5, 0, 0, 6],   # A#Minor\n",
        "    [0, 3, 1, 1, 0, 1, 2, 0, 2, 5, 2, 0]    # BMinor\n",
        "])\n",
        "\n",
        "chord_names = [\n",
        "    'C', 'C#', 'D', 'D#', 'E', 'F', 'F#', 'G', 'G#', 'A', 'A#', 'B', 'Cm', 'C#m', 'Dm', 'D#m', 'Em', 'Fm', 'F#m', 'Gm', 'G#m', 'Am', 'A#m', 'Bm'\n",
        "]\n",
        "\n",
        "\n",
        "# Set up the least squares problem\n",
        "A = equations[:, :-1]  # Coefficient matrix\n",
        "b = equations[:, -1]   # Constants vector\n",
        "\n",
        "# Solve the least squares problem\n",
        "coefficients, _, _, _ = np.linalg.lstsq(A, b, rcond=None)\n",
        "\n",
        "# Define the notes in order\n",
        "notes = ['C', 'C#', 'D', 'D#', 'E', 'F', 'F#', 'G', 'G#', 'A', 'A#', 'B']\n",
        "\n",
        "# Function to determine the bar's chord\n",
        "def determine_chord(bar_notes):\n",
        "    # Calculate the sum of squares for each chord\n",
        "    sums_of_squares = []\n",
        "    for i in range(len(notes)):\n",
        "        chord_notes = np.dot(coefficients, equations[i, :-1])\n",
        "        sum_of_squares = np.sum((bar_notes - chord_notes) ** 2)\n",
        "        sums_of_squares.append(sum_of_squares)\n",
        "\n",
        "    # Determine the chord with the smallest sum of squares\n",
        "    idx = np.argmin(sums_of_squares)\n",
        "    return notes[idx]\n",
        "\n",
        "\n",
        "    for bar, notes in notes_by_bar.items():\n",
        "      for msg in midi_data:\n",
        "        if msg.type == 'note_on':\n",
        "          notes.append(msg.note)\n",
        "        return notes\n",
        "        pitch, duration = note\n",
        "        scores = {chord: evaluate_bar(notes, chords[chord]) for chord in chords}\n",
        "          return min(scores, key=scores.get)\n",
        "          if min(scores, key=scores.get) >40:\n",
        "            determine_chord(bar_notes/2):\n",
        "            # Calculate the sum of squares for each chord again\n",
        "            sums_of_squares = []\n",
        "            if i % 2 = 0\n",
        "              i = +1\n",
        "              for i in range(len(notes)):\n",
        "                chord_notes = np.dot(coefficients, equations[i, :-1])\n",
        "                sum_of_squares = np.sum((bar_notes - chord_notes) ** 2)\n",
        "              sums_of_squares.append(sum_of_squares)\n",
        "          extracted_chords = determine_chord(notes)\n",
        "    # Determine the chord with the smallest sum of squares\n",
        "    idx = np.argmin(sums_of_squares)\n",
        "    return notes[idx]\n",
        "\n",
        "          else:\n",
        "          extracted_chords = determine_chord(notes)\n"
      ],
      "metadata": {
        "id": "DdUELIDwT-sm"
      },
      "execution_count": null,
      "outputs": []
    },
    {
      "cell_type": "markdown",
      "source": [
        "**Define Chord Progression**"
      ],
      "metadata": {
        "id": "9D7QShxes3zI"
      }
    },
    {
      "cell_type": "code",
      "source": [
        "# Define the 12 common chord progressions\n",
        "cp1 = ['I', 'IV', 'V', 'I']\n",
        "cp2 = ['I', 'vi', 'IV', 'V']\n",
        "cp3 = ['I', 'IV', 'vi', 'V']\n",
        "cp4 = ['vi', 'IV', 'I', 'V']\n",
        "cp5 = ['I', 'V', 'vi', 'IV']\n",
        "cp6 = ['IV', 'I', 'V', 'iv']\n",
        "cp7 = ['IV', 'I', 'vi', 'V']\n",
        "cp8 = ['I', 'iii', 'vi', 'IV']\n",
        "cp9 = ['I', 'IV', 'vi', 'V']\n",
        "cp10 = ['vi', 'IV', 'I', 'V']\n",
        "cp11 = ['I', 'V', 'vi', 'IV']\n",
        "cp12 = ['IV', 'ii', 'V', 'I']\n",
        "\n",
        "# Create a dictionary to map each chord progression to its corresponding list of chords\n",
        "chord_progressions = {\n",
        "    'cp1': cp1,\n",
        "    'cp2': cp2,\n",
        "    'cp3': cp3,\n",
        "    'cp4': cp4,\n",
        "    'cp5': cp5,\n",
        "    'cp6': cp6,\n",
        "    'cp7': cp7,\n",
        "    'cp8': cp8,\n",
        "    'cp9': cp9,\n",
        "    'cp10': cp10,\n",
        "    'cp11': cp11,\n",
        "    'cp12': cp12\n",
        "}\n"
      ],
      "metadata": {
        "id": "L7WokhteT90V"
      },
      "execution_count": null,
      "outputs": []
    },
    {
      "cell_type": "markdown",
      "source": [
        "**Define Distance Function**"
      ],
      "metadata": {
        "id": "9Km0RfDdUiZm"
      }
    },
    {
      "cell_type": "code",
      "execution_count": null,
      "metadata": {
        "id": "VtItr0IST0bI"
      },
      "outputs": [],
      "source": [
        "def chord_progression_distance(chord, chord_progressions):\n",
        "    min_distance = float('inf')\n",
        "    for progression in chord_progressions:\n",
        "        distance = sum([1 for i, c in enumerate(chord) if c != progression[i]]) / len(chord)\n",
        "        index_different_chord = -1\n",
        "          for i in range(len(chords_extracted)):\n",
        "          if chords_extracted[i] != chords_progression[i]:\n",
        "            index_different_chord = i\n",
        "        if distance < min_distance:\n",
        "            min_distance = distance\n",
        "    return min_distance\n",
        "    final_progression = [cp1, cp2, cp3, cp4, cp5, cp6, cp7, cp8, cp9, cp10, cp11, cp12][min_distance.index(min_distance))]"
      ]
    },
    {
      "cell_type": "markdown",
      "source": [
        "**Get the Generated Chord**"
      ],
      "metadata": {
        "id": "jqpaF35A8dPN"
      }
    },
    {
      "cell_type": "code",
      "source": [
        "\n",
        "score_extracted = min(scores, key=scores.get)\n",
        "score_progression = {chord: index_different_chord for final_progression}\n",
        "weight = min_distance\n",
        "\n",
        "weighted_score_progression = score_progression * weight\n",
        "\n",
        "if weighted_score_progression < score_extracted:\n",
        "    generated_chords = chords_progression\n",
        "    generated_score = weighted_score_progression\n",
        "else:\n",
        "    generated_chords = chords_extracted\n",
        "    generated_chords = score_extracted\n"
      ],
      "metadata": {
        "id": "-QBmPEXH1Fy3"
      },
      "execution_count": null,
      "outputs": []
    },
    {
      "cell_type": "code",
      "source": [
        "from os import major\n",
        "from music21 import converter, chord\n",
        "import json\n",
        "from google.colab import drive\n",
        "\n",
        "# Mount Google Drive\n",
        "drive.mount('/content/drive')\n",
        "from google.colab import drive\n",
        "\n",
        "# Get the key\n",
        "key = midi_data.analyze('key')\n",
        "\n",
        "# Print the key's name and mode\n",
        "print(key.name, key.mode)\n",
        "\n",
        "# Extract chord names\n",
        "chord_names = []\n",
        "cfn = []\n",
        "#for element in midi_file2.recurse():\n",
        "for i, element in enumerate(midi_data.recurse()):\n",
        "  if i % 2 == 0:\n",
        "    chord_names.append(element.generated_chords(i+1))\n",
        "  else:\n",
        "    chord_names.append(element.generated_chords(i))\n",
        "\n",
        "# Print chord names\n",
        "for name in chord_names:\n",
        "    print(name)\n",
        "\n",
        "# Save chord names as JSON\n",
        "drive.mount('/content/gdrive')\n",
        "json_data = {\"key\":key.name, \"chords\": chord_names}\n",
        "with open('/content/gdrive/MyDrive/chords.json', 'w') as f:\n",
        "    json.dump(json_data, f)\n",
        "\n",
        "# Load the JSON data from a file\n",
        "with open('/content/gdrive/MyDrive/chords.json') as file:\n",
        "    data = json.load(file)\n",
        "\n",
        "# Extract the chords list from the data\n",
        "chords = data['chords']\n",
        "\n",
        "# Convert the chords list to a JSON string\n",
        "json_chords = json.dumps(chords)\n",
        "\n",
        "# Print the JSON string\n",
        "print(json_chords)"
      ],
      "metadata": {
        "id": "xSFXz7mS9JQm"
      },
      "execution_count": null,
      "outputs": []
    }
  ]
}