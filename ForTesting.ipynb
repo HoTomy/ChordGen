{
  "nbformat": 4,
  "nbformat_minor": 0,
  "metadata": {
    "colab": {
      "provenance": [],
      "authorship_tag": "ABX9TyO96MVjQhBrSkMxUTskS73A",
      "include_colab_link": true
    },
    "kernelspec": {
      "name": "python3",
      "display_name": "Python 3"
    },
    "language_info": {
      "name": "python"
    }
  },
  "cells": [
    {
      "cell_type": "markdown",
      "metadata": {
        "id": "view-in-github",
        "colab_type": "text"
      },
      "source": [
        "<a href=\"https://colab.research.google.com/github/HoTomy/ChordGen/blob/main/ForTesting.ipynb\" target=\"_parent\"><img src=\"https://colab.research.google.com/assets/colab-badge.svg\" alt=\"Open In Colab\"/></a>"
      ]
    },
    {
      "cell_type": "markdown",
      "source": [
        "**Install Music 21**"
      ],
      "metadata": {
        "id": "njvsxLsI-D1A"
      }
    },
    {
      "cell_type": "code",
      "source": [
        "pip install music21"
      ],
      "metadata": {
        "id": "3xDefs3P-IY2"
      },
      "execution_count": null,
      "outputs": []
    },
    {
      "cell_type": "markdown",
      "source": [
        "**Install Pretty MIDI**"
      ],
      "metadata": {
        "id": "pKLt-909B3iv"
      }
    },
    {
      "cell_type": "code",
      "source": [
        "pip install pretty_midi"
      ],
      "metadata": {
        "id": "EH-tsyNVB45s"
      },
      "execution_count": null,
      "outputs": []
    },
    {
      "cell_type": "markdown",
      "source": [
        "**Install MIDO**"
      ],
      "metadata": {
        "id": "hbgRPmpHD-4d"
      }
    },
    {
      "cell_type": "code",
      "source": [
        "pip install mido"
      ],
      "metadata": {
        "id": "DUqJa98LEGjE"
      },
      "execution_count": null,
      "outputs": []
    },
    {
      "cell_type": "markdown",
      "source": [
        "**Import Suitable Library**"
      ],
      "metadata": {
        "id": "KERH_4UsCBUI"
      }
    },
    {
      "cell_type": "code",
      "source": [
        "import pretty_midi\n",
        "import numpy as np\n",
        "from music21 import converter"
      ],
      "metadata": {
        "id": "NKRVDyqGCFMu"
      },
      "execution_count": null,
      "outputs": []
    },
    {
      "cell_type": "markdown",
      "source": [
        "**Import music 21 and json library and link to Google Drive**"
      ],
      "metadata": {
        "id": "5kB4JGfr-QgX"
      }
    },
    {
      "cell_type": "code",
      "source": [
        "# Import libraries\n",
        "import music21\n",
        "import json\n",
        "from google.colab import drive\n",
        "\n",
        "# Mount Google Drive\n",
        "drive.mount('/content/drive')"
      ],
      "metadata": {
        "id": "2ph3FRN_-aZd"
      },
      "execution_count": null,
      "outputs": []
    },
    {
      "cell_type": "markdown",
      "source": [
        "**Define the equations and get extracted chords by bar**"
      ],
      "metadata": {
        "id": "NPs9iSOsuxHI"
      }
    },
    {
      "cell_type": "code",
      "source": [
        "import numpy as np\n",
        "\n",
        "import mido\n",
        "from collections import Counter\n",
        "\n",
        "# Define the equations\n",
        "equations = np.array([\n",
        "    [9, 3, 1, 2, 1, 0, 0, 0, 0, 0, 0, 0],   # CMajor\n",
        "    [6, 0, 4, 0, 0, 2, 0, 3, 0, 0, 0, 0],   # C#Major\n",
        "    [0, 6, 1, 0, 4, 0, 0, 3, 0, 0, 0, 0],   # DMajor\n",
        "    [1, 1, 0, 0, 5, 0, 5, 0, 0, 1, 0, 0],   # D#Major\n",
        "    [2, 1, 0, 1, 3, 1, 0, 3, 0, 1, 2, 0],   # EMajor\n",
        "    [1, 1, 0, 0, 0, 5, 2, 0, 0, 6, 0, 1],   # FMajor\n",
        "    [1, 2, 0, 2, 0, 3, 0, 0, 2, 0, 0, 2],   # F#Major\n",
        "    [1, 1, 2, 0, 0, 0, 0, 5, 0, 0, 5, 0],   # GMajor\n",
        "    [4, 0, 0, 3, 0, 2, 0, 0, 0, 0, 0, 5],   # G#Major\n",
        "    [5, 1, 2, 0, 0, 0, 0, 6, 0, 2, 0, 0],   # AMajor\n",
        "    [5, 0, 0, 1, 0, 0, 0, 0, 1, 0, 7, 0],   # A#Major\n",
        "    [0, 0, 2, 0, 2, 0, 2, 0, 0, 0, 0, 6],   # BMajor\n",
        "    [5, 1, 3, 2, 1, 3, 1, 0, 1, 0, 1, 0],   # CMinor\n",
        "    [8, 0, 0, 4, 0, 3, 0, 0, 0, 1, 0, 0],   # C#Minor\n",
        "    [0, 5, 2, 0, 4, 0, 0, 1, 1, 0, 2, 0],   # DMinor\n",
        "    [1, 2, 0, 2, 0, 2, 1, 0, 0, 2, 0, 2],   # D#Minor\n",
        "    [1, 1, 0, 1, 4, 1, 1, 0, 1, 0, 3, 0],   # EMinor\n",
        "    [2, 0, 6, 0, 5, 0, 0, 2, 0, 0, 0, 0],   # FMinor\n",
        "    [2, 1, 0, 2, 0, 1, 4, 0, 1, 1, 0, 1],   # F#Minor\n",
        "    [1, 1, 2, 0, 4, 2, 0, 0, 2, 2, 0, 0],   # GMinor\n",
        "    [2, 2, 0, 0, 1, 0, 7, 0, 1, 3, 0, 0],   # G#Minor\n",
        "    [3, 1, 0, 2, 0, 0, 0, 5, 0, 2, 0, 2],   # AMinor\n",
        "    [1, 4, 1, 0, 1, 0, 0, 2, 5, 0, 0, 6],   # A#Minor\n",
        "    [0, 3, 1, 1, 0, 1, 2, 0, 2, 5, 2, 0]    # BMinor\n",
        "])\n",
        "\n",
        "chord_names = [\n",
        "    'C', 'C#', 'D', 'D#', 'E', 'F', 'F#', 'G', 'G#', 'A', 'A#', 'B', 'Cm', 'C#m', 'Dm', 'D#m', 'Em', 'Fm', 'F#m', 'Gm', 'G#m', 'Am', 'A#m', 'Bm'\n",
        "]\n",
        "\n",
        "\n",
        "# Set up the least squares problem\n",
        "A = equations[:, :-1]  # Coefficient matrix\n",
        "b = equations[:, -1]   # Constants vector\n",
        "\n",
        "# Solve the least squares problem\n",
        "coefficients, _, _, _ = np.linalg.lstsq(A, b, rcond=None)\n",
        "\n",
        "# Define the notes in order\n",
        "notes = ['C', 'C#', 'D', 'D#', 'E', 'F', 'F#', 'G', 'G#', 'A', 'A#', 'B']\n",
        "\n",
        "# Function to determine the bar's chord\n",
        "def determine_chord(bar_notes):\n",
        "    # Calculate the sum of squares for each chord\n",
        "    sums_of_squares = []\n",
        "    for i in range(len(notes)):\n",
        "        chord_notes = np.dot(coefficients, equations[i, :-1])\n",
        "        sum_of_squares = np.sum((bar_notes - chord_notes) ** 2)\n",
        "        sums_of_squares.append(sum_of_squares)\n",
        "\n",
        "    # Determine the chord with the smallest sum of squares\n",
        "    idx = np.argmin(sums_of_squares)\n",
        "    return notes[idx]\n",
        "\n",
        "\n",
        "    for bar, notes in notes_by_bar.items():\n",
        "      for msg in midi_data:\n",
        "        if msg.type == 'note_on':\n",
        "          notes.append(msg.note)\n",
        "        return notes\n",
        "        pitch, duration = note\n",
        "        scores = {chord: evaluate_bar(notes, chords[chord]) for chord in chords}\n",
        "          return min(scores, key=scores.get)\n",
        "          if min(scores, key=scores.get) >40:\n",
        "            determine_chord(bar_notes/2):\n",
        "            # Calculate the sum of squares for each chord again\n",
        "            sums_of_squares = []\n",
        "            if i % 2 = 0\n",
        "              i = +1\n",
        "              for i in range(len(notes)):\n",
        "                chord_notes = np.dot(coefficients, equations[i, :-1])\n",
        "                sum_of_squares = np.sum((bar_notes - chord_notes) ** 2)\n",
        "              sums_of_squares.append(sum_of_squares)\n",
        "          extracted_chords = determine_chord(notes)\n",
        "    # Determine the chord with the smallest sum of squares\n",
        "    idx = np.argmin(sums_of_squares)\n",
        "    return notes[idx]\n",
        "\n",
        "          else:\n",
        "          extracted_chords = determine_chord(notes)\n"
      ],
      "metadata": {
        "id": "DdUELIDwT-sm"
      },
      "execution_count": null,
      "outputs": []
    },
    {
      "cell_type": "markdown",
      "source": [
        "**Define Chord Progression**"
      ],
      "metadata": {
        "id": "9D7QShxes3zI"
      }
    },
    {
      "cell_type": "code",
      "source": [
        "# Define the 12 common chord progressions\n",
        "cp1 = ['I', 'IV', 'V', 'I']\n",
        "cp2 = ['I', 'vi', 'IV', 'V']\n",
        "cp3 = ['I', 'IV', 'vi', 'V']\n",
        "cp4 = ['vi', 'IV', 'I', 'V']\n",
        "cp5 = ['I', 'V', 'vi', 'IV']\n",
        "cp6 = ['IV', 'I', 'V', 'iv']\n",
        "cp7 = ['IV', 'I', 'vi', 'V']\n",
        "cp8 = ['I', 'iii', 'vi', 'IV']\n",
        "cp9 = ['I', 'IV', 'vi', 'V']\n",
        "cp10 = ['vi', 'IV', 'I', 'V']\n",
        "cp11 = ['I', 'V', 'vi', 'IV']\n",
        "cp12 = ['IV', 'ii', 'V', 'I']\n",
        "\n",
        "# Create a dictionary to map each chord progression to its corresponding list of chords\n",
        "chord_progressions = {\n",
        "    'cp1': cp1,\n",
        "    'cp2': cp2,\n",
        "    'cp3': cp3,\n",
        "    'cp4': cp4,\n",
        "    'cp5': cp5,\n",
        "    'cp6': cp6,\n",
        "    'cp7': cp7,\n",
        "    'cp8': cp8,\n",
        "    'cp9': cp9,\n",
        "    'cp10': cp10,\n",
        "    'cp11': cp11,\n",
        "    'cp12': cp12\n",
        "}\n"
      ],
      "metadata": {
        "id": "L7WokhteT90V"
      },
      "execution_count": null,
      "outputs": []
    },
    {
      "cell_type": "markdown",
      "source": [
        "**Define Distance Function**"
      ],
      "metadata": {
        "id": "9Km0RfDdUiZm"
      }
    },
    {
      "cell_type": "code",
      "execution_count": null,
      "metadata": {
        "id": "VtItr0IST0bI"
      },
      "outputs": [],
      "source": [
        "def chord_progression_distance(chord, chord_progressions):\n",
        "    min_distance = float('inf')\n",
        "    for progression in chord_progressions:\n",
        "        distance = sum([1 for i, c in enumerate(chord) if c != progression[i]]) / len(chord)\n",
        "        index_different_chord = -1\n",
        "          for i in range(len(chords_extracted)):\n",
        "          if chords_extracted[i] != chords_progression[i]:\n",
        "            index_different_chord = i\n",
        "        if distance < min_distance:\n",
        "            min_distance = distance\n",
        "    return min_distance\n",
        "    final_progression = [cp1, cp2, cp3, cp4, cp5, cp6, cp7, cp8, cp9, cp10, cp11, cp12][min_distance.index(min_distance))]"
      ]
    },
    {
      "cell_type": "markdown",
      "source": [
        "**Get the Generated Chord**"
      ],
      "metadata": {
        "id": "jqpaF35A8dPN"
      }
    },
    {
      "cell_type": "code",
      "source": [
        "\n",
        "score_extracted = min(scores, key=scores.get)\n",
        "score_progression = {chord: index_different_chord for final_progression}\n",
        "weight = min_distance\n",
        "\n",
        "weighted_score_progression = score_progression * weight\n",
        "\n",
        "if weighted_score_progression < score_extracted:\n",
        "    generated_chords = chords_progression\n",
        "    generated_score = weighted_score_progression\n",
        "else:\n",
        "    generated_chords = chords_extracted\n",
        "    generated_score = score_extracted\n"
      ],
      "metadata": {
        "id": "-QBmPEXH1Fy3"
      },
      "execution_count": null,
      "outputs": []
    },
    {
      "cell_type": "markdown",
      "source": [
        "**Load the testing data and evaluate on every bar**"
      ],
      "metadata": {
        "id": "VjNzdl_VdyjU"
      }
    },
    {
      "cell_type": "code",
      "source": [
        "start_file_number = 70\n",
        "end_file_number = 99\n",
        "\n",
        "predicted_chords = []\n",
        "ground_truth_chords = []\n",
        "\n",
        "midi_files_path = \"/content/drive/MyDrive/midi/\"\n",
        "\n",
        "def analyze_chords(chords):\n",
        "    triads = []\n",
        "    for chord_set in chords:\n",
        "        triad_set = set()\n",
        "        for chord_notes in chord_set:\n",
        "            chord_obj = chord.Chord(chord_notes)\n",
        "            if chord_obj.isTriad() and chord_obj.isMajorTriad():\n",
        "                triad_set.add(chord_obj.pitchedCommonName)\n",
        "        triads.append(triad_set)\n",
        "    return triads\n",
        "\n",
        "for file_number in range(start_file_number, end_file_number + 1):\n",
        "    # Load the MIDI file\n",
        "    file_path = f\"/content/drive/MyDrive/midi/midi{file_number}.mid\"\n",
        "    midi_data = pretty_midi.PrettyMIDI(file_path)\n",
        "\n",
        "    # Iterate over the bars in the MIDI file\n",
        "    for bar in midi_data.get_beats():\n",
        "        # Extract features from the current bar\n",
        "        features = extract_features(bar)\n",
        "\n",
        "        # Extract the ground truth chord label for the current bar\n",
        "        from music21 import chord\n",
        "        triads_list = []\n",
        "        for chords in chords_list:\n",
        "          ground_truth_chord = analyze_chords(chords)\n",
        "        ground_truth_chords.append(ground_truth_chord)\n",
        "\n",
        "accuracy = accuracy_score(ground_truth_chords, generated_chords)\n",
        "print(\"Accuracy:\", accuracy)"
      ],
      "metadata": {
        "id": "xSFXz7mS9JQm"
      },
      "execution_count": null,
      "outputs": []
    }
  ]
}