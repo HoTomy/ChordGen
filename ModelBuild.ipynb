{
  "cells": [
    {
      "cell_type": "markdown",
      "metadata": {
        "id": "view-in-github",
        "colab_type": "text"
      },
      "source": [
        "<a href=\"https://colab.research.google.com/github/HoTomy/ChordGen/blob/main/ModelBuild.ipynb\" target=\"_parent\"><img src=\"https://colab.research.google.com/assets/colab-badge.svg\" alt=\"Open In Colab\"/></a>"
      ]
    },
    {
      "cell_type": "markdown",
      "source": [
        "**Install Music21**"
      ],
      "metadata": {
        "id": "sdbZbfIgJbTC"
      }
    },
    {
      "cell_type": "code",
      "execution_count": null,
      "metadata": {
        "colab": {
          "base_uri": "https://localhost:8080/"
        },
        "id": "laApiLJqQCWt",
        "outputId": "a14afd16-31f5-42d7-e739-fd5739a81cd9"
      },
      "outputs": [
        {
          "output_type": "stream",
          "name": "stdout",
          "text": [
            "Requirement already satisfied: music21 in /usr/local/lib/python3.10/dist-packages (8.1.0)\n",
            "Requirement already satisfied: chardet in /usr/local/lib/python3.10/dist-packages (from music21) (4.0.0)\n",
            "Requirement already satisfied: joblib in /usr/local/lib/python3.10/dist-packages (from music21) (1.3.1)\n",
            "Requirement already satisfied: jsonpickle in /usr/local/lib/python3.10/dist-packages (from music21) (3.0.1)\n",
            "Requirement already satisfied: matplotlib in /usr/local/lib/python3.10/dist-packages (from music21) (3.7.1)\n",
            "Requirement already satisfied: more-itertools in /usr/local/lib/python3.10/dist-packages (from music21) (9.1.0)\n",
            "Requirement already satisfied: numpy in /usr/local/lib/python3.10/dist-packages (from music21) (1.22.4)\n",
            "Requirement already satisfied: requests in /usr/local/lib/python3.10/dist-packages (from music21) (2.27.1)\n",
            "Requirement already satisfied: webcolors>=1.5 in /usr/local/lib/python3.10/dist-packages (from music21) (1.13)\n",
            "Requirement already satisfied: contourpy>=1.0.1 in /usr/local/lib/python3.10/dist-packages (from matplotlib->music21) (1.1.0)\n",
            "Requirement already satisfied: cycler>=0.10 in /usr/local/lib/python3.10/dist-packages (from matplotlib->music21) (0.11.0)\n",
            "Requirement already satisfied: fonttools>=4.22.0 in /usr/local/lib/python3.10/dist-packages (from matplotlib->music21) (4.40.0)\n",
            "Requirement already satisfied: kiwisolver>=1.0.1 in /usr/local/lib/python3.10/dist-packages (from matplotlib->music21) (1.4.4)\n",
            "Requirement already satisfied: packaging>=20.0 in /usr/local/lib/python3.10/dist-packages (from matplotlib->music21) (23.1)\n",
            "Requirement already satisfied: pillow>=6.2.0 in /usr/local/lib/python3.10/dist-packages (from matplotlib->music21) (8.4.0)\n",
            "Requirement already satisfied: pyparsing>=2.3.1 in /usr/local/lib/python3.10/dist-packages (from matplotlib->music21) (3.1.0)\n",
            "Requirement already satisfied: python-dateutil>=2.7 in /usr/local/lib/python3.10/dist-packages (from matplotlib->music21) (2.8.2)\n",
            "Requirement already satisfied: urllib3<1.27,>=1.21.1 in /usr/local/lib/python3.10/dist-packages (from requests->music21) (1.26.16)\n",
            "Requirement already satisfied: certifi>=2017.4.17 in /usr/local/lib/python3.10/dist-packages (from requests->music21) (2023.5.7)\n",
            "Requirement already satisfied: charset-normalizer~=2.0.0 in /usr/local/lib/python3.10/dist-packages (from requests->music21) (2.0.12)\n",
            "Requirement already satisfied: idna<4,>=2.5 in /usr/local/lib/python3.10/dist-packages (from requests->music21) (3.4)\n",
            "Requirement already satisfied: six>=1.5 in /usr/local/lib/python3.10/dist-packages (from python-dateutil>=2.7->matplotlib->music21) (1.16.0)\n"
          ]
        }
      ],
      "source": [
        "pip install music21"
      ]
    },
    {
      "cell_type": "markdown",
      "source": [
        "**Connect Google Drive**"
      ],
      "metadata": {
        "id": "HLCCxJGRJW-4"
      }
    },
    {
      "cell_type": "code",
      "execution_count": null,
      "metadata": {
        "id": "vsJh5Z2CQF2d",
        "colab": {
          "base_uri": "https://localhost:8080/"
        },
        "outputId": "44862e48-85c5-4ee5-cce4-fa61bbaac947"
      },
      "outputs": [
        {
          "output_type": "stream",
          "name": "stdout",
          "text": [
            "Mounted at /content/drive\n"
          ]
        }
      ],
      "source": [
        "from google.colab import drive\n",
        "drive.mount('/content/drive')"
      ]
    },
    {
      "cell_type": "markdown",
      "source": [
        "**Install Pretty MIDI**"
      ],
      "metadata": {
        "id": "KrBUqjkDaEb8"
      }
    },
    {
      "cell_type": "code",
      "source": [
        "pip install pretty_midi"
      ],
      "metadata": {
        "colab": {
          "base_uri": "https://localhost:8080/"
        },
        "id": "w6n6ALcgZwLk",
        "outputId": "992d8e79-97fc-4d83-c9b4-e0757295f940"
      },
      "execution_count": null,
      "outputs": [
        {
          "output_type": "stream",
          "name": "stdout",
          "text": [
            "Collecting pretty_midi\n",
            "  Downloading pretty_midi-0.2.10.tar.gz (5.6 MB)\n",
            "\u001b[2K     \u001b[90m━━━━━━━━━━━━━━━━━━━━━━━━━━━━━━━━━━━━━━━━\u001b[0m \u001b[32m5.6/5.6 MB\u001b[0m \u001b[31m17.3 MB/s\u001b[0m eta \u001b[36m0:00:00\u001b[0m\n",
            "\u001b[?25h  Preparing metadata (setup.py) ... \u001b[?25l\u001b[?25hdone\n",
            "Requirement already satisfied: numpy>=1.7.0 in /usr/local/lib/python3.10/dist-packages (from pretty_midi) (1.22.4)\n",
            "Collecting mido>=1.1.16 (from pretty_midi)\n",
            "  Downloading mido-1.3.0-py3-none-any.whl (50 kB)\n",
            "\u001b[2K     \u001b[90m━━━━━━━━━━━━━━━━━━━━━━━━━━━━━━━━━━━━━━━━\u001b[0m \u001b[32m50.3/50.3 kB\u001b[0m \u001b[31m4.7 MB/s\u001b[0m eta \u001b[36m0:00:00\u001b[0m\n",
            "\u001b[?25hRequirement already satisfied: six in /usr/local/lib/python3.10/dist-packages (from pretty_midi) (1.16.0)\n",
            "Requirement already satisfied: packaging~=23.1 in /usr/local/lib/python3.10/dist-packages (from mido>=1.1.16->pretty_midi) (23.1)\n",
            "Building wheels for collected packages: pretty_midi\n",
            "  Building wheel for pretty_midi (setup.py) ... \u001b[?25l\u001b[?25hdone\n",
            "  Created wheel for pretty_midi: filename=pretty_midi-0.2.10-py3-none-any.whl size=5592287 sha256=96924f763e6f8741cc7ce6239ad3eeccb208232503b1544b557b44563d8a82da\n",
            "  Stored in directory: /root/.cache/pip/wheels/cd/a5/30/7b8b7f58709f5150f67f98fde4b891ebf0be9ef07a8af49f25\n",
            "Successfully built pretty_midi\n",
            "Installing collected packages: mido, pretty_midi\n",
            "Successfully installed mido-1.3.0 pretty_midi-0.2.10\n"
          ]
        }
      ]
    },
    {
      "cell_type": "markdown",
      "source": [
        "**Import Suitable Library**"
      ],
      "metadata": {
        "id": "0oUU9tfPaWUc"
      }
    },
    {
      "cell_type": "code",
      "source": [
        "import pretty_midi\n",
        "import numpy as np\n",
        "from music21 import converter"
      ],
      "metadata": {
        "id": "gizIdh3LZr6E"
      },
      "execution_count": null,
      "outputs": []
    },
    {
      "cell_type": "markdown",
      "source": [
        "**Install MIDO**"
      ],
      "metadata": {
        "id": "Jw4oVJ4zJl98"
      }
    },
    {
      "cell_type": "code",
      "source": [
        "pip install mido"
      ],
      "metadata": {
        "colab": {
          "base_uri": "https://localhost:8080/"
        },
        "id": "1l5SAdPN6_tY",
        "outputId": "e3cb30d5-be1f-47fe-d8fa-26de5e27028f"
      },
      "execution_count": null,
      "outputs": [
        {
          "output_type": "stream",
          "name": "stdout",
          "text": [
            "Collecting mido\n",
            "  Downloading mido-1.3.0-py3-none-any.whl (50 kB)\n",
            "\u001b[2K     \u001b[90m━━━━━━━━━━━━━━━━━━━━━━━━━━━━━━━━━━━━━━━━\u001b[0m \u001b[32m50.3/50.3 kB\u001b[0m \u001b[31m1.7 MB/s\u001b[0m eta \u001b[36m0:00:00\u001b[0m\n",
            "\u001b[?25hRequirement already satisfied: packaging~=23.1 in /usr/local/lib/python3.10/dist-packages (from mido) (23.1)\n",
            "Installing collected packages: mido\n",
            "Successfully installed mido-1.3.0\n"
          ]
        }
      ]
    },
    {
      "cell_type": "markdown",
      "source": [
        "**Load the MIDI files using the mido library**"
      ],
      "metadata": {
        "id": "2-n5y6SwzmJW"
      }
    },
    {
      "cell_type": "code",
      "execution_count": null,
      "metadata": {
        "id": "0Vry1CYYQLFM"
      },
      "outputs": [],
      "source": [
        "import mido\n",
        "\n",
        "# Define the path to your MIDI files\n",
        "# Directory where the MIDI files are located\n",
        "\n",
        "midi_files_path = \"/content/drive/MyDrive/midi\"\n",
        "\n",
        "# Load MIDI files\n",
        "midi_files = []\n",
        "for i in range(70):\n",
        "    filename = f\"{midi_files_path}/file{i:02d}.mid\"\n",
        "    midi = mido.MidiFile(filename)\n",
        "    midi_files.append(midi)"
      ]
    },
    {
      "cell_type": "markdown",
      "source": [
        "**Extract the chord information using the mido library**"
      ],
      "metadata": {
        "id": "WNA17bhxz8vv"
      }
    },
    {
      "cell_type": "code",
      "source": [
        "from mido import MidiFile\n",
        "\n",
        "def extract_chords(midi):\n",
        "    chords = []\n",
        "    current_chord = set()\n",
        "\n",
        "    for message in midi:\n",
        "        if message.type == 'note_on':\n",
        "            if message.velocity > 0:\n",
        "                current_chord.add(message.note)\n",
        "            else:\n",
        "                current_chord.remove(message.note)\n",
        "\n",
        "            if len(current_chord) > 0:\n",
        "                chords.append(current_chord.copy())\n",
        "            else:\n",
        "                chords.append(set())\n",
        "\n",
        "    return chords\n",
        "\n",
        "chords_list = []\n",
        "for midi in midi_files:\n",
        "    chords = extract_chords(midi)\n",
        "    chords_list.append(chords)"
      ],
      "metadata": {
        "id": "8vnTaIdkz-hW"
      },
      "execution_count": null,
      "outputs": []
    },
    {
      "cell_type": "markdown",
      "source": [
        "**Analyze the chords using the music21 library to identify triads**"
      ],
      "metadata": {
        "id": "3PbgxqMn0GEl"
      }
    },
    {
      "cell_type": "code",
      "source": [
        "from music21 import chord\n",
        "\n",
        "\n",
        "def analyze_chords(chords):\n",
        "    triads = []\n",
        "    for chord_set in chords:\n",
        "        triad_set = set()\n",
        "        for chord_notes in chord_set:\n",
        "            chord_obj = chord.Chord(chord_notes)\n",
        "            if chord_obj.isTriad() and chord_obj.isMajorTriad():\n",
        "                triad_set.add(chord_obj.pitchedCommonName)\n",
        "        triads.append(triad_set)\n",
        "    return triads\n",
        "\n",
        "triads_list = []\n",
        "for chords in chords_list:\n",
        "    triads = analyze_chords(chords)\n",
        "    triads_list.append(triads)"
      ],
      "metadata": {
        "id": "gcMO7Ec00Ex8"
      },
      "execution_count": null,
      "outputs": []
    },
    {
      "cell_type": "markdown",
      "source": [
        "**Preprocess the data**"
      ],
      "metadata": {
        "id": "QrWJGEw1JwtC"
      }
    },
    {
      "cell_type": "code",
      "execution_count": null,
      "metadata": {
        "id": "D-ofDsxfQg79"
      },
      "outputs": [],
      "source": [
        "def preprocess_data(triads):\n",
        "    chord_equations = []\n",
        "    for triad_set in triads:\n",
        "        equation_set = set()\n",
        "        for triad in triad_set:\n",
        "            root, quality = triad.split()\n",
        "            if quality.upper() in ['MAJOR', 'MINOR']:\n",
        "                equation_set.add(f\"{root.upper()} {quality.upper()}\")\n",
        "        chord_equations.append(equation_set)\n",
        "    return chord_equations\n",
        "\n",
        "chord_equations_list = []\n",
        "for triads in triads_list:\n",
        "    chord_equations = preprocess_data(triads)\n",
        "    chord_equations_list.append(chord_equations)"
      ]
    },
    {
      "cell_type": "markdown",
      "source": [
        "**Train the regression model**"
      ],
      "metadata": {
        "id": "LpAFFmZk0mPc"
      }
    },
    {
      "cell_type": "code",
      "execution_count": null,
      "metadata": {
        "id": "lG6VjizcQpA9"
      },
      "outputs": [],
      "source": [
        "from sklearn.linear_model import LinearRegression\n",
        "from sklearn.metrics import mean_squared_error\n",
        "\n",
        "# Assign numerical labels to the chord equations\n",
        "labels = list(set(flat_chord_equations))\n",
        "label_to_index = {label: i for i, label in enumerate(labels)}\n",
        "indexed_labels = [label_to_index[equation] for equation in flat_chord_equations]\n",
        "\n",
        "# Split data into training and testing sets\n",
        "X_train, X_test, y_train, y_test = train_test_split(chords_list, indexed_labels, test_size=0.2, random_state=42)\n",
        "\n",
        "# Train the linear regression model\n",
        "regressor = LinearRegression()\n",
        "regressor.fit(X_train, y_train)\n",
        "\n",
        "# Make predictions on the test set\n",
        "y_pred = regressor.predict(X_test)\n",
        "\n",
        "\n"
      ]
    },
    {
      "cell_type": "markdown",
      "source": [
        "**Print out 24 regression equations in matrix**\n",
        "\n"
      ],
      "metadata": {
        "id": "ZwhRdmK75SVX"
      }
    },
    {
      "cell_type": "code",
      "source": [
        "# Train the linear regression model\n",
        "regressor = LinearRegression()\n",
        "regressor.fit(X_train, y_train)\n",
        "\n",
        "# Make predictions on the test set\n",
        "y_pred = regressor.predict(X_test)\n",
        "\n",
        "# Create a mapping from numerical labels to chord equations\n",
        "index_to_label = {i: label for label, i in label_to_index.items()}\n",
        "\n",
        "# Convert the predicted numerical labels to chord equations\n",
        "predicted_equations = [index_to_label[int(round(prediction))] for prediction in y_pred]\n",
        "\n",
        "# Print the matrix of predicted chord equations\n",
        "matrix = [[predicted_equations[i + j] for j in range(12)] for i in range(0, 24, 12)]\n",
        "for row in matrix:\n",
        "    print(row)"
      ],
      "metadata": {
        "id": "RNENtg0H5hbB"
      },
      "execution_count": null,
      "outputs": []
    }
  ],
  "metadata": {
    "colab": {
      "provenance": [],
      "authorship_tag": "ABX9TyMJPHIQ/qcpEtwTHfSBNfDy",
      "include_colab_link": true
    },
    "kernelspec": {
      "display_name": "Python 3",
      "name": "python3"
    },
    "language_info": {
      "name": "python"
    }
  },
  "nbformat": 4,
  "nbformat_minor": 0
}