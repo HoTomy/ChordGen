{
  "nbformat": 4,
  "nbformat_minor": 0,
  "metadata": {
    "colab": {
      "provenance": [],
      "authorship_tag": "ABX9TyMRiyljHiaRf0FyRH0NVsaX",
      "include_colab_link": true
    },
    "kernelspec": {
      "name": "python3",
      "display_name": "Python 3"
    },
    "language_info": {
      "name": "python"
    }
  },
  "cells": [
    {
      "cell_type": "markdown",
      "metadata": {
        "id": "view-in-github",
        "colab_type": "text"
      },
      "source": [
        "<a href=\"https://colab.research.google.com/github/HoTomy/ChordGen/blob/main/chord_generator.ipynb\" target=\"_parent\"><img src=\"https://colab.research.google.com/assets/colab-badge.svg\" alt=\"Open In Colab\"/></a>"
      ]
    },
    {
      "cell_type": "code",
      "execution_count": null,
      "metadata": {
        "colab": {
          "base_uri": "https://localhost:8080/"
        },
        "id": "411T5kHNZ20u",
        "outputId": "72e2c2d2-7b88-4db1-daee-d433676b57fd"
      },
      "outputs": [
        {
          "output_type": "stream",
          "name": "stdout",
          "text": [
            "Requirement already satisfied: music21 in /usr/local/lib/python3.10/dist-packages (9.1.0)\n",
            "Requirement already satisfied: chardet in /usr/local/lib/python3.10/dist-packages (from music21) (4.0.0)\n",
            "Requirement already satisfied: joblib in /usr/local/lib/python3.10/dist-packages (from music21) (1.3.2)\n",
            "Requirement already satisfied: jsonpickle in /usr/local/lib/python3.10/dist-packages (from music21) (3.0.1)\n",
            "Requirement already satisfied: matplotlib in /usr/local/lib/python3.10/dist-packages (from music21) (3.7.1)\n",
            "Requirement already satisfied: more-itertools in /usr/local/lib/python3.10/dist-packages (from music21) (10.1.0)\n",
            "Requirement already satisfied: numpy in /usr/local/lib/python3.10/dist-packages (from music21) (1.23.5)\n",
            "Requirement already satisfied: requests in /usr/local/lib/python3.10/dist-packages (from music21) (2.31.0)\n",
            "Requirement already satisfied: webcolors>=1.5 in /usr/local/lib/python3.10/dist-packages (from music21) (1.13)\n",
            "Requirement already satisfied: contourpy>=1.0.1 in /usr/local/lib/python3.10/dist-packages (from matplotlib->music21) (1.1.0)\n",
            "Requirement already satisfied: cycler>=0.10 in /usr/local/lib/python3.10/dist-packages (from matplotlib->music21) (0.11.0)\n",
            "Requirement already satisfied: fonttools>=4.22.0 in /usr/local/lib/python3.10/dist-packages (from matplotlib->music21) (4.42.0)\n",
            "Requirement already satisfied: kiwisolver>=1.0.1 in /usr/local/lib/python3.10/dist-packages (from matplotlib->music21) (1.4.4)\n",
            "Requirement already satisfied: packaging>=20.0 in /usr/local/lib/python3.10/dist-packages (from matplotlib->music21) (23.1)\n",
            "Requirement already satisfied: pillow>=6.2.0 in /usr/local/lib/python3.10/dist-packages (from matplotlib->music21) (9.4.0)\n",
            "Requirement already satisfied: pyparsing>=2.3.1 in /usr/local/lib/python3.10/dist-packages (from matplotlib->music21) (3.1.1)\n",
            "Requirement already satisfied: python-dateutil>=2.7 in /usr/local/lib/python3.10/dist-packages (from matplotlib->music21) (2.8.2)\n",
            "Requirement already satisfied: charset-normalizer<4,>=2 in /usr/local/lib/python3.10/dist-packages (from requests->music21) (3.2.0)\n",
            "Requirement already satisfied: idna<4,>=2.5 in /usr/local/lib/python3.10/dist-packages (from requests->music21) (3.4)\n",
            "Requirement already satisfied: urllib3<3,>=1.21.1 in /usr/local/lib/python3.10/dist-packages (from requests->music21) (2.0.4)\n",
            "Requirement already satisfied: certifi>=2017.4.17 in /usr/local/lib/python3.10/dist-packages (from requests->music21) (2023.7.22)\n",
            "Requirement already satisfied: six>=1.5 in /usr/local/lib/python3.10/dist-packages (from python-dateutil>=2.7->matplotlib->music21) (1.16.0)\n"
          ]
        }
      ],
      "source": [
        "pip install music21"
      ]
    },
    {
      "cell_type": "code",
      "source": [],
      "metadata": {
        "id": "1oMA4onLv3MA"
      },
      "execution_count": null,
      "outputs": []
    },
    {
      "cell_type": "code",
      "source": [
        "pip install mido"
      ],
      "metadata": {
        "colab": {
          "base_uri": "https://localhost:8080/"
        },
        "id": "pOoWs0Q3aFHC",
        "outputId": "dc09b0ff-756c-4f7e-f133-5f91906fc9dc"
      },
      "execution_count": null,
      "outputs": [
        {
          "output_type": "stream",
          "name": "stdout",
          "text": [
            "Collecting mido\n",
            "  Downloading mido-1.3.0-py3-none-any.whl (50 kB)\n",
            "\u001b[?25l     \u001b[90m━━━━━━━━━━━━━━━━━━━━━━━━━━━━━━━━━━━━━━━━\u001b[0m \u001b[32m0.0/50.3 kB\u001b[0m \u001b[31m?\u001b[0m eta \u001b[36m-:--:--\u001b[0m\r\u001b[2K     \u001b[90m━━━━━━━━━━━━━━━━━━━━━━━━━━━━━━━━━━━━━━━━\u001b[0m \u001b[32m50.3/50.3 kB\u001b[0m \u001b[31m1.4 MB/s\u001b[0m eta \u001b[36m0:00:00\u001b[0m\n",
            "\u001b[?25hRequirement already satisfied: packaging~=23.1 in /usr/local/lib/python3.10/dist-packages (from mido) (23.1)\n",
            "Installing collected packages: mido\n",
            "Successfully installed mido-1.3.0\n"
          ]
        }
      ]
    },
    {
      "cell_type": "code",
      "source": [],
      "metadata": {
        "id": "0p2qyluLv5Le"
      },
      "execution_count": null,
      "outputs": []
    },
    {
      "cell_type": "code",
      "source": [
        "from music21 import converter, chord\n",
        "\n",
        "def generate_chords(midi_file_path):\n",
        "    # Load MIDI file\n",
        "    midi_file = converter.parse(footprint.mid)\n",
        "\n",
        "    # Extract chords\n",
        "    chords = []\n",
        "    for element in midi_file.recurse():\n",
        "        if isinstance(element, chord.Chord):\n",
        "            chords.append(element.pitchedCommonName)\n",
        "\n",
        "    # Return chords\n",
        "    return chords"
      ],
      "metadata": {
        "id": "53siTy_-aMba"
      },
      "execution_count": null,
      "outputs": []
    },
    {
      "cell_type": "code",
      "source": [
        "pip install python-for-android"
      ],
      "metadata": {
        "colab": {
          "base_uri": "https://localhost:8080/"
        },
        "id": "iqu41pWGv7nd",
        "outputId": "2aaa614e-54d1-4ad3-abf8-bde01d9d6e0d"
      },
      "execution_count": null,
      "outputs": [
        {
          "output_type": "stream",
          "name": "stdout",
          "text": [
            "Collecting python-for-android\n",
            "  Downloading python_for_android-2023.5.21-py3-none-any.whl (525 kB)\n",
            "\u001b[2K     \u001b[90m━━━━━━━━━━━━━━━━━━━━━━━━━━━━━━━━━━━━━━━\u001b[0m \u001b[32m525.3/525.3 kB\u001b[0m \u001b[31m4.3 MB/s\u001b[0m eta \u001b[36m0:00:00\u001b[0m\n",
            "\u001b[?25hRequirement already satisfied: appdirs in /usr/local/lib/python3.10/dist-packages (from python-for-android) (1.4.4)\n",
            "Collecting colorama>=0.3.3 (from python-for-android)\n",
            "  Downloading colorama-0.4.6-py2.py3-none-any.whl (25 kB)\n",
            "Requirement already satisfied: jinja2 in /usr/local/lib/python3.10/dist-packages (from python-for-android) (3.1.2)\n",
            "Collecting pep517 (from python-for-android)\n",
            "  Downloading pep517-0.13.0-py3-none-any.whl (18 kB)\n",
            "Requirement already satisfied: toml in /usr/local/lib/python3.10/dist-packages (from python-for-android) (0.10.2)\n",
            "Requirement already satisfied: packaging in /usr/local/lib/python3.10/dist-packages (from python-for-android) (23.1)\n",
            "Collecting sh<2.0,>=1.10 (from python-for-android)\n",
            "  Downloading sh-1.14.3.tar.gz (62 kB)\n",
            "\u001b[2K     \u001b[90m━━━━━━━━━━━━━━━━━━━━━━━━━━━━━━━━━━━━━━━━\u001b[0m \u001b[32m62.9/62.9 kB\u001b[0m \u001b[31m6.7 MB/s\u001b[0m eta \u001b[36m0:00:00\u001b[0m\n",
            "\u001b[?25h  Preparing metadata (setup.py) ... \u001b[?25l\u001b[?25hdone\n",
            "Requirement already satisfied: MarkupSafe>=2.0 in /usr/local/lib/python3.10/dist-packages (from jinja2->python-for-android) (2.1.3)\n",
            "Requirement already satisfied: tomli>=1.1.0 in /usr/local/lib/python3.10/dist-packages (from pep517->python-for-android) (2.0.1)\n",
            "Building wheels for collected packages: sh\n",
            "  Building wheel for sh (setup.py) ... \u001b[?25l\u001b[?25hdone\n",
            "  Created wheel for sh: filename=sh-1.14.3-py2.py3-none-any.whl size=39639 sha256=0b27f43016ce1f9d3d20eade8c29aa2025046161d654f4dcd725f95fce642c06\n",
            "  Stored in directory: /root/.cache/pip/wheels/48/1e/68/186beff3cdcf04ad2a63b3756fd7eaa8d957e538fdc63787f6\n",
            "Successfully built sh\n",
            "Installing collected packages: sh, pep517, colorama, python-for-android\n",
            "Successfully installed colorama-0.4.6 pep517-0.13.0 python-for-android-2023.5.21 sh-1.14.3\n"
          ]
        }
      ]
    },
    {
      "cell_type": "code",
      "source": [
        "pip install git+https://github.com/kivy/python-for-android.git"
      ],
      "metadata": {
        "colab": {
          "base_uri": "https://localhost:8080/"
        },
        "id": "xjL5Ihxnavo6",
        "outputId": "71a09188-af28-46fd-c4c0-f5bc60338627"
      },
      "execution_count": null,
      "outputs": [
        {
          "output_type": "stream",
          "name": "stdout",
          "text": [
            "Collecting git+https://github.com/kivy/python-for-android.git\n",
            "  Cloning https://github.com/kivy/python-for-android.git to /tmp/pip-req-build-ubxre566\n",
            "  Running command git clone --filter=blob:none --quiet https://github.com/kivy/python-for-android.git /tmp/pip-req-build-ubxre566\n",
            "  Resolved https://github.com/kivy/python-for-android.git to commit be650bcfa82dcc7cd3007401ddf5844c9937078a\n",
            "  Preparing metadata (setup.py) ... \u001b[?25l\u001b[?25hdone\n",
            "Requirement already satisfied: appdirs in /usr/local/lib/python3.10/dist-packages (from python-for-android==2023.5.21) (1.4.4)\n",
            "Requirement already satisfied: colorama>=0.3.3 in /usr/local/lib/python3.10/dist-packages (from python-for-android==2023.5.21) (0.4.6)\n",
            "Requirement already satisfied: jinja2 in /usr/local/lib/python3.10/dist-packages (from python-for-android==2023.5.21) (3.1.2)\n",
            "Requirement already satisfied: build in /usr/local/lib/python3.10/dist-packages (from python-for-android==2023.5.21) (0.10.0)\n",
            "Requirement already satisfied: toml in /usr/local/lib/python3.10/dist-packages (from python-for-android==2023.5.21) (0.10.2)\n",
            "Requirement already satisfied: packaging in /usr/local/lib/python3.10/dist-packages (from python-for-android==2023.5.21) (23.1)\n",
            "Requirement already satisfied: sh<2.0,>=1.10 in /usr/local/lib/python3.10/dist-packages (from python-for-android==2023.5.21) (1.14.3)\n",
            "Requirement already satisfied: pyproject_hooks in /usr/local/lib/python3.10/dist-packages (from build->python-for-android==2023.5.21) (1.0.0)\n",
            "Requirement already satisfied: tomli>=1.1.0 in /usr/local/lib/python3.10/dist-packages (from build->python-for-android==2023.5.21) (2.0.1)\n",
            "Requirement already satisfied: MarkupSafe>=2.0 in /usr/local/lib/python3.10/dist-packages (from jinja2->python-for-android==2023.5.21) (2.1.3)\n"
          ]
        }
      ]
    },
    {
      "cell_type": "code",
      "source": [],
      "metadata": {
        "id": "J1chH7FPy1LK"
      },
      "execution_count": null,
      "outputs": []
    }
  ]
}